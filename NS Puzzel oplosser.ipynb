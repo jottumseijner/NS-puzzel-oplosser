{
 "cells": [
  {
   "cell_type": "code",
   "execution_count": 24,
   "metadata": {},
   "outputs": [
    {
     "name": "stdout",
     "output_type": "stream",
     "text": [
      "Filtered data saved to 'filtered_stations.csv'\n"
     ]
    }
   ],
   "source": [
    "import csv\n",
    "\n",
    "# Open the input CSV file and the output CSV file\n",
    "with open('stations.csv', 'r') as csv_file, open('filtered_stations.csv', 'w', newline='') as output_file:\n",
    "    # Create a CSV reader object\n",
    "    csv_reader = csv.reader(csv_file)\n",
    "    \n",
    "    # Create a CSV writer object for the new file\n",
    "    csv_writer = csv.writer(output_file)\n",
    "    \n",
    "    # Skip the header (if any)\n",
    "    header = next(csv_reader)\n",
    "    \n",
    "    # Write the header to the new file\n",
    "    csv_writer.writerow([header[5].lower()])  # Assuming 'name_long' is in the 6th column (index 5)\n",
    "    \n",
    "    # Loop through each row in the CSV\n",
    "    for list in csv_reader:\n",
    "        # Check if the country is 'NL' (Assuming country code is in the 3rd column, index 2)\n",
    "        if list[7] == 'NL':\n",
    "            # Write the 'name_long' (assuming it's in the 6th column, index 5)\n",
    "            csv_writer.writerow([list[5].lower()])\n",
    "\n",
    "print(\"Filtered data saved to 'filtered_stations.csv'\")"
   ]
  },
  {
   "cell_type": "markdown",
   "metadata": {},
   "source": []
  },
  {
   "cell_type": "code",
   "execution_count": 95,
   "metadata": {},
   "outputs": [
    {
     "name": "stdout",
     "output_type": "stream",
     "text": [
      "Amersfoort Schothorst\n"
     ]
    }
   ],
   "source": [
    "user_input = input(\"Enter the scrambled station name: \")\n",
    "\n",
    "# Filter only letters (ignoring numbers or any other characters)\n",
    "station_list = [char for char in user_input if char.isalpha()]\n",
    "\n",
    "# Convert to lowercase, sort, and join into a string\n",
    "station_string = ''.join(sorted([char.lower() for char in station_list]))\n",
    "\n",
    "# Print the result\n",
    "with open('filtered_stations.csv', 'r') as stations_csv:\n",
    "    csv_reader = csv.reader(stations_csv)\n",
    "\n",
    "    found = False\n",
    "\n",
    "    for row in csv.reader(stations_csv):\n",
    "        sorted_station_name = ''.join(sorted(''.join(row[0].strip().split())))\n",
    "\n",
    "        if sorted_station_name == station_string:\n",
    "            print(row[0].title())\n",
    "            found = True\n",
    "            break\n",
    "    if not found:\n",
    "        print(\"Station not found\")"
   ]
  },
  {
   "cell_type": "code",
   "execution_count": null,
   "metadata": {},
   "outputs": [],
   "source": []
  }
 ],
 "metadata": {
  "kernelspec": {
   "display_name": "base",
   "language": "python",
   "name": "python3"
  },
  "language_info": {
   "codemirror_mode": {
    "name": "ipython",
    "version": 3
   },
   "file_extension": ".py",
   "mimetype": "text/x-python",
   "name": "python",
   "nbconvert_exporter": "python",
   "pygments_lexer": "ipython3",
   "version": "3.11.5"
  }
 },
 "nbformat": 4,
 "nbformat_minor": 2
}
